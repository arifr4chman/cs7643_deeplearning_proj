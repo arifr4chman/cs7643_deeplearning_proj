{
  "nbformat": 4,
  "nbformat_minor": 0,
  "metadata": {
    "colab": {
      "provenance": []
    },
    "kernelspec": {
      "name": "python3",
      "display_name": "Python 3"
    },
    "language_info": {
      "name": "python"
    }
  },
  "cells": [
    {
      "cell_type": "code",
      "source": [
        "import zipfile\n",
        "import os"
      ],
      "metadata": {
        "id": "gBNxfB3cVrhN"
      },
      "execution_count": null,
      "outputs": []
    },
    {
      "cell_type": "code",
      "source": [
        "def is_colab():\n",
        "  try:\n",
        "    import google.colab\n",
        "    return True\n",
        "  except ImportError:\n",
        "    return False\n",
        "\n",
        "# Example usage:\n",
        "is_colab()"
      ],
      "metadata": {
        "colab": {
          "base_uri": "https://localhost:8080/"
        },
        "id": "P2qFLg9pV9MF",
        "outputId": "03f0cab2-2b4b-4b3a-b1ee-7f4cbef748d6"
      },
      "execution_count": null,
      "outputs": [
        {
          "output_type": "execute_result",
          "data": {
            "text/plain": [
              "True"
            ]
          },
          "metadata": {},
          "execution_count": 4
        }
      ]
    },
    {
      "cell_type": "code",
      "source": [
        "if is_colab() == True:\n",
        "  from google.colab import drive\n",
        "  drive.mount('/content/drive')"
      ],
      "metadata": {
        "colab": {
          "base_uri": "https://localhost:8080/"
        },
        "id": "grg_saVqWGi7",
        "outputId": "a246223e-25f4-4f79-f031-60659e292ac4"
      },
      "execution_count": null,
      "outputs": [
        {
          "output_type": "stream",
          "name": "stdout",
          "text": [
            "Mounted at /content/drive\n"
          ]
        }
      ]
    },
    {
      "cell_type": "code",
      "source": [
        "# Specify the path to the zip file and the directory to extract to\n",
        "directory_to_extract_to = '/content/drive/MyDrive/GeorgiaTech/08_DL_CS7643/Project/Data/intel_image/'\n",
        "path_to_zip_file = directory_to_extract_to + 'raw_data.zip'\n",
        "\n",
        "# Check if the zip file exists\n",
        "if os.path.exists(path_to_zip_file):\n",
        "    try:\n",
        "      with zipfile.ZipFile(path_to_zip_file, 'r') as zip_ref:\n",
        "          zip_ref.extractall(directory_to_extract_to)\n",
        "      print(f\"Successfully extracted {path_to_zip_file} to {directory_to_extract_to}\")\n",
        "    except zipfile.BadZipFile:\n",
        "        print(f\"Error: {path_to_zip_file} is not a valid zip file.\")\n",
        "    except Exception as e:\n",
        "        print(f\"An error occurred: {e}\")\n",
        "else:\n",
        "    print(f\"Error: {path_to_zip_file} not found.\")\n"
      ],
      "metadata": {
        "colab": {
          "base_uri": "https://localhost:8080/"
        },
        "id": "OgmeOXxRUTIe",
        "outputId": "032269fa-3fde-403f-e286-75a927a88c6c"
      },
      "execution_count": null,
      "outputs": [
        {
          "output_type": "stream",
          "name": "stdout",
          "text": [
            "Successfully extracted /content/drive/MyDrive/GeorgiaTech/08_DL_CS7643/Project/Data/intel_image/raw_data/raw_data.zip to /content/drive/MyDrive/GeorgiaTech/08_DL_CS7643/Project/Data/intel_image/raw_data/\n"
          ]
        }
      ]
    }
  ]
}